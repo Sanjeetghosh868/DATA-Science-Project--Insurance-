{
 "cells": [
  {
   "cell_type": "code",
   "execution_count": null,
   "id": "f71d8ca2",
   "metadata": {},
   "outputs": [],
   "source": []
  },
  {
   "cell_type": "markdown",
   "id": "e3bef070",
   "metadata": {},
   "source": [
    "#### Steps\n",
    "<pre>\n",
    "1) Create ML Model\n",
    "2) Save the Model\n",
    "3) Create a ML model Web App using streamlit\n",
    "4) Push the ML model and related files to github repo\n",
    "5) Use Streamlit cloud to deploy the app from the github repo.\n",
    "</pre>\n",
    "\n",
    "#### Requirements\n",
    "<pre>\n",
    "1) Jupyter\n",
    "2) dataset\n",
    "3) Dependencies - pandas, numpy, pickle, skicit-learn, \n",
    "4) VS Code\n",
    "5) Github account\n",
    "6) Streamlit cloud account\n",
    "</pre>"
   ]
  },
  {
   "cell_type": "code",
   "execution_count": 3,
   "id": "89ee7b7d",
   "metadata": {},
   "outputs": [],
   "source": [
    "import pandas as pd\n",
    "import numpy as np\n",
    "import matplotlib.pyplot as plt\n",
    "import seaborn as sns"
   ]
  },
  {
   "cell_type": "code",
   "execution_count": 25,
   "id": "62ea3ef6",
   "metadata": {},
   "outputs": [],
   "source": [
    "import warnings\n",
    "warnings.filterwarnings('ignore')"
   ]
  },
  {
   "cell_type": "markdown",
   "id": "1a35aef3",
   "metadata": {},
   "source": [
    "#### Read the dataset"
   ]
  },
  {
   "cell_type": "code",
   "execution_count": 4,
   "id": "cc1b4358",
   "metadata": {},
   "outputs": [
    {
     "data": {
      "text/html": [
       "<div>\n",
       "<style scoped>\n",
       "    .dataframe tbody tr th:only-of-type {\n",
       "        vertical-align: middle;\n",
       "    }\n",
       "\n",
       "    .dataframe tbody tr th {\n",
       "        vertical-align: top;\n",
       "    }\n",
       "\n",
       "    .dataframe thead th {\n",
       "        text-align: right;\n",
       "    }\n",
       "</style>\n",
       "<table border=\"1\" class=\"dataframe\">\n",
       "  <thead>\n",
       "    <tr style=\"text-align: right;\">\n",
       "      <th></th>\n",
       "      <th>age</th>\n",
       "      <th>sex</th>\n",
       "      <th>bmi</th>\n",
       "      <th>children</th>\n",
       "      <th>smoker</th>\n",
       "      <th>region</th>\n",
       "      <th>charges</th>\n",
       "    </tr>\n",
       "  </thead>\n",
       "  <tbody>\n",
       "    <tr>\n",
       "      <th>0</th>\n",
       "      <td>19</td>\n",
       "      <td>female</td>\n",
       "      <td>27.900</td>\n",
       "      <td>0</td>\n",
       "      <td>yes</td>\n",
       "      <td>southwest</td>\n",
       "      <td>16884.92400</td>\n",
       "    </tr>\n",
       "    <tr>\n",
       "      <th>1</th>\n",
       "      <td>18</td>\n",
       "      <td>male</td>\n",
       "      <td>33.770</td>\n",
       "      <td>1</td>\n",
       "      <td>no</td>\n",
       "      <td>southeast</td>\n",
       "      <td>1725.55230</td>\n",
       "    </tr>\n",
       "    <tr>\n",
       "      <th>2</th>\n",
       "      <td>28</td>\n",
       "      <td>male</td>\n",
       "      <td>33.000</td>\n",
       "      <td>3</td>\n",
       "      <td>no</td>\n",
       "      <td>southeast</td>\n",
       "      <td>4449.46200</td>\n",
       "    </tr>\n",
       "    <tr>\n",
       "      <th>3</th>\n",
       "      <td>33</td>\n",
       "      <td>male</td>\n",
       "      <td>22.705</td>\n",
       "      <td>0</td>\n",
       "      <td>no</td>\n",
       "      <td>northwest</td>\n",
       "      <td>21984.47061</td>\n",
       "    </tr>\n",
       "    <tr>\n",
       "      <th>4</th>\n",
       "      <td>32</td>\n",
       "      <td>male</td>\n",
       "      <td>28.880</td>\n",
       "      <td>0</td>\n",
       "      <td>no</td>\n",
       "      <td>northwest</td>\n",
       "      <td>3866.85520</td>\n",
       "    </tr>\n",
       "  </tbody>\n",
       "</table>\n",
       "</div>"
      ],
      "text/plain": [
       "   age     sex     bmi  children smoker     region      charges\n",
       "0   19  female  27.900         0    yes  southwest  16884.92400\n",
       "1   18    male  33.770         1     no  southeast   1725.55230\n",
       "2   28    male  33.000         3     no  southeast   4449.46200\n",
       "3   33    male  22.705         0     no  northwest  21984.47061\n",
       "4   32    male  28.880         0     no  northwest   3866.85520"
      ]
     },
     "execution_count": 4,
     "metadata": {},
     "output_type": "execute_result"
    }
   ],
   "source": [
    "df  = pd.read_csv('insurance.csv')\n",
    "df.head()"
   ]
  },
  {
   "cell_type": "code",
   "execution_count": 6,
   "id": "55d3aeb6",
   "metadata": {},
   "outputs": [
    {
     "data": {
      "text/plain": [
       "(1338, 7)"
      ]
     },
     "execution_count": 6,
     "metadata": {},
     "output_type": "execute_result"
    }
   ],
   "source": [
    "df.shape\n",
    "# rows = 1338, columns = 7"
   ]
  },
  {
   "cell_type": "markdown",
   "id": "4e00749f",
   "metadata": {},
   "source": [
    "### Data Preprocessing\n"
   ]
  },
  {
   "cell_type": "markdown",
   "id": "49db2fd2",
   "metadata": {},
   "source": [
    "#### 1) Handling Null Values"
   ]
  },
  {
   "cell_type": "code",
   "execution_count": 7,
   "id": "547a8856",
   "metadata": {},
   "outputs": [
    {
     "data": {
      "text/plain": [
       "age         0\n",
       "sex         0\n",
       "bmi         0\n",
       "children    0\n",
       "smoker      0\n",
       "region      0\n",
       "charges     0\n",
       "dtype: int64"
      ]
     },
     "execution_count": 7,
     "metadata": {},
     "output_type": "execute_result"
    }
   ],
   "source": [
    "df.isnull().sum()"
   ]
  },
  {
   "cell_type": "markdown",
   "id": "42d103e3",
   "metadata": {},
   "source": [
    "#### 2) Handle duplicates"
   ]
  },
  {
   "cell_type": "code",
   "execution_count": 8,
   "id": "2b7d1a10",
   "metadata": {},
   "outputs": [
    {
     "data": {
      "text/plain": [
       "1"
      ]
     },
     "execution_count": 8,
     "metadata": {},
     "output_type": "execute_result"
    }
   ],
   "source": [
    "df.duplicated().sum()"
   ]
  },
  {
   "cell_type": "code",
   "execution_count": 10,
   "id": "7f08c722",
   "metadata": {},
   "outputs": [],
   "source": [
    "df.drop_duplicates(inplace=True)"
   ]
  },
  {
   "cell_type": "code",
   "execution_count": 11,
   "id": "7a57c089",
   "metadata": {},
   "outputs": [
    {
     "data": {
      "text/plain": [
       "0"
      ]
     },
     "execution_count": 11,
     "metadata": {},
     "output_type": "execute_result"
    }
   ],
   "source": [
    "df.duplicated().sum()"
   ]
  },
  {
   "cell_type": "markdown",
   "id": "83fd0ebd",
   "metadata": {},
   "source": [
    "#### 3) Check data types"
   ]
  },
  {
   "cell_type": "code",
   "execution_count": 12,
   "id": "4068afce",
   "metadata": {},
   "outputs": [
    {
     "data": {
      "text/plain": [
       "age           int64\n",
       "sex          object\n",
       "bmi         float64\n",
       "children      int64\n",
       "smoker       object\n",
       "region       object\n",
       "charges     float64\n",
       "dtype: object"
      ]
     },
     "execution_count": 12,
     "metadata": {},
     "output_type": "execute_result"
    }
   ],
   "source": [
    "df.dtypes"
   ]
  },
  {
   "cell_type": "markdown",
   "id": "1b7d1b0d",
   "metadata": {},
   "source": [
    "#### 4) Inconsistent data"
   ]
  },
  {
   "cell_type": "code",
   "execution_count": 13,
   "id": "655964bf",
   "metadata": {},
   "outputs": [
    {
     "data": {
      "text/html": [
       "<div>\n",
       "<style scoped>\n",
       "    .dataframe tbody tr th:only-of-type {\n",
       "        vertical-align: middle;\n",
       "    }\n",
       "\n",
       "    .dataframe tbody tr th {\n",
       "        vertical-align: top;\n",
       "    }\n",
       "\n",
       "    .dataframe thead th {\n",
       "        text-align: right;\n",
       "    }\n",
       "</style>\n",
       "<table border=\"1\" class=\"dataframe\">\n",
       "  <thead>\n",
       "    <tr style=\"text-align: right;\">\n",
       "      <th></th>\n",
       "      <th>age</th>\n",
       "      <th>bmi</th>\n",
       "      <th>children</th>\n",
       "      <th>charges</th>\n",
       "    </tr>\n",
       "  </thead>\n",
       "  <tbody>\n",
       "    <tr>\n",
       "      <th>count</th>\n",
       "      <td>1337.000000</td>\n",
       "      <td>1337.000000</td>\n",
       "      <td>1337.000000</td>\n",
       "      <td>1337.000000</td>\n",
       "    </tr>\n",
       "    <tr>\n",
       "      <th>mean</th>\n",
       "      <td>39.222139</td>\n",
       "      <td>30.663452</td>\n",
       "      <td>1.095737</td>\n",
       "      <td>13279.121487</td>\n",
       "    </tr>\n",
       "    <tr>\n",
       "      <th>std</th>\n",
       "      <td>14.044333</td>\n",
       "      <td>6.100468</td>\n",
       "      <td>1.205571</td>\n",
       "      <td>12110.359656</td>\n",
       "    </tr>\n",
       "    <tr>\n",
       "      <th>min</th>\n",
       "      <td>18.000000</td>\n",
       "      <td>15.960000</td>\n",
       "      <td>0.000000</td>\n",
       "      <td>1121.873900</td>\n",
       "    </tr>\n",
       "    <tr>\n",
       "      <th>25%</th>\n",
       "      <td>27.000000</td>\n",
       "      <td>26.290000</td>\n",
       "      <td>0.000000</td>\n",
       "      <td>4746.344000</td>\n",
       "    </tr>\n",
       "    <tr>\n",
       "      <th>50%</th>\n",
       "      <td>39.000000</td>\n",
       "      <td>30.400000</td>\n",
       "      <td>1.000000</td>\n",
       "      <td>9386.161300</td>\n",
       "    </tr>\n",
       "    <tr>\n",
       "      <th>75%</th>\n",
       "      <td>51.000000</td>\n",
       "      <td>34.700000</td>\n",
       "      <td>2.000000</td>\n",
       "      <td>16657.717450</td>\n",
       "    </tr>\n",
       "    <tr>\n",
       "      <th>max</th>\n",
       "      <td>64.000000</td>\n",
       "      <td>53.130000</td>\n",
       "      <td>5.000000</td>\n",
       "      <td>63770.428010</td>\n",
       "    </tr>\n",
       "  </tbody>\n",
       "</table>\n",
       "</div>"
      ],
      "text/plain": [
       "               age          bmi     children       charges\n",
       "count  1337.000000  1337.000000  1337.000000   1337.000000\n",
       "mean     39.222139    30.663452     1.095737  13279.121487\n",
       "std      14.044333     6.100468     1.205571  12110.359656\n",
       "min      18.000000    15.960000     0.000000   1121.873900\n",
       "25%      27.000000    26.290000     0.000000   4746.344000\n",
       "50%      39.000000    30.400000     1.000000   9386.161300\n",
       "75%      51.000000    34.700000     2.000000  16657.717450\n",
       "max      64.000000    53.130000     5.000000  63770.428010"
      ]
     },
     "execution_count": 13,
     "metadata": {},
     "output_type": "execute_result"
    }
   ],
   "source": [
    "df.describe()"
   ]
  },
  {
   "cell_type": "markdown",
   "id": "49564a32",
   "metadata": {},
   "source": [
    "#### Seperate Num and Catgeorical features"
   ]
  },
  {
   "cell_type": "code",
   "execution_count": 16,
   "id": "ca2ef64c",
   "metadata": {},
   "outputs": [
    {
     "name": "stdout",
     "output_type": "stream",
     "text": [
      "Index(['age', 'bmi', 'children', 'charges'], dtype='object')\n",
      "Index(['sex', 'smoker', 'region'], dtype='object')\n"
     ]
    }
   ],
   "source": [
    "num_cols = df.dtypes[df.dtypes!='object'].index\n",
    "cat_cols = df.dtypes[df.dtypes=='object'].index\n",
    "print(num_cols)\n",
    "print(cat_cols)"
   ]
  },
  {
   "cell_type": "markdown",
   "id": "dedee1b9",
   "metadata": {},
   "source": [
    "#### Correlation"
   ]
  },
  {
   "cell_type": "code",
   "execution_count": 18,
   "id": "e2bf8d03",
   "metadata": {},
   "outputs": [
    {
     "data": {
      "text/html": [
       "<div>\n",
       "<style scoped>\n",
       "    .dataframe tbody tr th:only-of-type {\n",
       "        vertical-align: middle;\n",
       "    }\n",
       "\n",
       "    .dataframe tbody tr th {\n",
       "        vertical-align: top;\n",
       "    }\n",
       "\n",
       "    .dataframe thead th {\n",
       "        text-align: right;\n",
       "    }\n",
       "</style>\n",
       "<table border=\"1\" class=\"dataframe\">\n",
       "  <thead>\n",
       "    <tr style=\"text-align: right;\">\n",
       "      <th></th>\n",
       "      <th>age</th>\n",
       "      <th>bmi</th>\n",
       "      <th>children</th>\n",
       "      <th>charges</th>\n",
       "    </tr>\n",
       "  </thead>\n",
       "  <tbody>\n",
       "    <tr>\n",
       "      <th>age</th>\n",
       "      <td>1.000000</td>\n",
       "      <td>0.109344</td>\n",
       "      <td>0.041536</td>\n",
       "      <td>0.298308</td>\n",
       "    </tr>\n",
       "    <tr>\n",
       "      <th>bmi</th>\n",
       "      <td>0.109344</td>\n",
       "      <td>1.000000</td>\n",
       "      <td>0.012755</td>\n",
       "      <td>0.198401</td>\n",
       "    </tr>\n",
       "    <tr>\n",
       "      <th>children</th>\n",
       "      <td>0.041536</td>\n",
       "      <td>0.012755</td>\n",
       "      <td>1.000000</td>\n",
       "      <td>0.067389</td>\n",
       "    </tr>\n",
       "    <tr>\n",
       "      <th>charges</th>\n",
       "      <td>0.298308</td>\n",
       "      <td>0.198401</td>\n",
       "      <td>0.067389</td>\n",
       "      <td>1.000000</td>\n",
       "    </tr>\n",
       "  </tbody>\n",
       "</table>\n",
       "</div>"
      ],
      "text/plain": [
       "               age       bmi  children   charges\n",
       "age       1.000000  0.109344  0.041536  0.298308\n",
       "bmi       0.109344  1.000000  0.012755  0.198401\n",
       "children  0.041536  0.012755  1.000000  0.067389\n",
       "charges   0.298308  0.198401  0.067389  1.000000"
      ]
     },
     "execution_count": 18,
     "metadata": {},
     "output_type": "execute_result"
    }
   ],
   "source": [
    "corr = df[num_cols].corr()\n",
    "corr"
   ]
  },
  {
   "cell_type": "markdown",
   "id": "e33d14b6",
   "metadata": {},
   "source": [
    "#### EDA"
   ]
  },
  {
   "cell_type": "markdown",
   "id": "58cbff25",
   "metadata": {},
   "source": [
    "#### Univariate Analysis"
   ]
  },
  {
   "cell_type": "code",
   "execution_count": 26,
   "id": "ae381fa0",
   "metadata": {},
   "outputs": [
    {
     "data": {
      "image/png": "[encoded data removed]",
      "text/plain": [
       "<Figure size 1200x1000 with 3 Axes>"
      ]
     },
     "metadata": {},
     "output_type": "display_data"
    }
   ],
   "source": [
    "plt.figure(figsize=(12,10))\n",
    "for i in range(len(cat_cols)):\n",
    "    plt.subplot(2,2,i+1)\n",
    "    ax = sns.countplot(x=df[cat_cols[i]],palette='Set1')\n",
    "    ax.bar_label(ax.containers[0])\n",
    "    plt.title(f'Countplot for {cat_cols[i]}')\n",
    "\n",
    "plt.show()"
   ]
  },
  {
   "cell_type": "code",
   "execution_count": 28,
   "id": "f0325178",
   "metadata": {},
   "outputs": [
    {
     "data": {
      "image/png": "[encoded data removed]",
      "text/plain": [
       "<Figure size 1200x1000 with 4 Axes>"
      ]
     },
     "metadata": {},
     "output_type": "display_data"
    }
   ],
   "source": [
    "plt.figure(figsize=(12,10))\n",
    "for i in range(len(num_cols)):\n",
    "    plt.subplot(2,2,i+1)\n",
    "    sns.distplot(x=df[num_cols[i]])\n",
    "    plt.title(f'Displot for {num_cols[i]}')\n",
    "plt.show()"
   ]
  },
  {
   "cell_type": "code",
   "execution_count": 29,
   "id": "1adf32b0",
   "metadata": {},
   "outputs": [
    {
     "data": {
      "image/png": "[encoded data removed]",
      "text/plain": [
       "<Figure size 1200x1000 with 4 Axes>"
      ]
     },
     "metadata": {},
     "output_type": "display_data"
    }
   ],
   "source": [
    "plt.figure(figsize=(12,10))\n",
    "for i in range(len(num_cols)):\n",
    "    plt.subplot(2,2,i+1)\n",
    "    sns.boxplot(x=df[num_cols[i]])\n",
    "    plt.title(f'Boxplot for {num_cols[i]}')\n",
    "plt.show()"
   ]
  },
  {
   "cell_type": "code",
   "execution_count": null,
   "id": "88286120",
   "metadata": {},
   "outputs": [],
   "source": []
  },
  {
   "cell_type": "markdown",
   "id": "ab51fb87",
   "metadata": {},
   "source": [
    "#### Outlier Treatment"
   ]
  },
  {
   "cell_type": "code",
   "execution_count": 35,
   "id": "38c4b080",
   "metadata": {},
   "outputs": [
    {
     "data": {
      "text/html": [
       "<div>\n",
       "<style scoped>\n",
       "    .dataframe tbody tr th:only-of-type {\n",
       "        vertical-align: middle;\n",
       "    }\n",
       "\n",
       "    .dataframe tbody tr th {\n",
       "        vertical-align: top;\n",
       "    }\n",
       "\n",
       "    .dataframe thead th {\n",
       "        text-align: right;\n",
       "    }\n",
       "</style>\n",
       "<table border=\"1\" class=\"dataframe\">\n",
       "  <thead>\n",
       "    <tr style=\"text-align: right;\">\n",
       "      <th></th>\n",
       "      <th>50%</th>\n",
       "      <th>95%</th>\n",
       "      <th>96%</th>\n",
       "      <th>97%</th>\n",
       "      <th>98%</th>\n",
       "      <th>99%</th>\n",
       "      <th>max</th>\n",
       "    </tr>\n",
       "  </thead>\n",
       "  <tbody>\n",
       "    <tr>\n",
       "      <th>bmi</th>\n",
       "      <td>30.4000</td>\n",
       "      <td>41.1080</td>\n",
       "      <td>41.800000</td>\n",
       "      <td>42.455200</td>\n",
       "      <td>43.920800</td>\n",
       "      <td>46.411200</td>\n",
       "      <td>53.13000</td>\n",
       "    </tr>\n",
       "    <tr>\n",
       "      <th>charges</th>\n",
       "      <td>9386.1613</td>\n",
       "      <td>41210.0498</td>\n",
       "      <td>42920.126232</td>\n",
       "      <td>44495.190584</td>\n",
       "      <td>46677.324238</td>\n",
       "      <td>48537.796878</td>\n",
       "      <td>63770.42801</td>\n",
       "    </tr>\n",
       "  </tbody>\n",
       "</table>\n",
       "</div>"
      ],
      "text/plain": [
       "               50%         95%           96%           97%           98%  \\\n",
       "bmi        30.4000     41.1080     41.800000     42.455200     43.920800   \n",
       "charges  9386.1613  41210.0498  42920.126232  44495.190584  46677.324238   \n",
       "\n",
       "                  99%          max  \n",
       "bmi         46.411200     53.13000  \n",
       "charges  48537.796878  63770.42801  "
      ]
     },
     "execution_count": 35,
     "metadata": {},
     "output_type": "execute_result"
    }
   ],
   "source": [
    "cols = ['bmi','charges']\n",
    "\n",
    "a = df[cols].describe(percentiles=[0.95,0.96,0.97,0.98,0.99]).T\n",
    "a = a.iloc[:,4:]\n",
    "a"
   ]
  },
  {
   "cell_type": "code",
   "execution_count": 38,
   "id": "f796a0e9",
   "metadata": {},
   "outputs": [
    {
     "name": "stdout",
     "output_type": "stream",
     "text": [
      "(14, 7)\n",
      "(67, 7)\n"
     ]
    }
   ],
   "source": [
    "print(df[df['bmi']>46.411200].shape)\n",
    "print(df[df['charges']>41210.0498].shape)"
   ]
  },
  {
   "cell_type": "code",
   "execution_count": 39,
   "id": "27e76dbc",
   "metadata": {},
   "outputs": [],
   "source": [
    "df1 = df.copy()"
   ]
  },
  {
   "cell_type": "markdown",
   "id": "45b4f5a5",
   "metadata": {},
   "source": [
    "#### Outlier Capping"
   ]
  },
  {
   "cell_type": "code",
   "execution_count": 40,
   "id": "becd8e81",
   "metadata": {},
   "outputs": [],
   "source": [
    "df['bmi'] = np.where(df['bmi']>46.411200,46.411200,df['bmi'])\n",
    "df['charges'] = np.where(df['charges']>41210.0498,41210.0498,df['charges'])"
   ]
  },
  {
   "cell_type": "code",
   "execution_count": 41,
   "id": "b9e4df90",
   "metadata": {},
   "outputs": [
    {
     "data": {
      "image/png": "[encoded data removed]",
      "text/plain": [
       "<Figure size 1200x500 with 2 Axes>"
      ]
     },
     "metadata": {},
     "output_type": "display_data"
    }
   ],
   "source": [
    "cols = ['bmi','charges']\n",
    "\n",
    "plt.figure(figsize=(12,5))\n",
    "for i in range(len(cols)):\n",
    "    plt.subplot(2,2,i+1)\n",
    "    sns.boxplot(x=df[cols[i]])\n",
    "    plt.title(f'Boxplot for {cols[i]}')\n",
    "plt.show()"
   ]
  },
  {
   "cell_type": "markdown",
   "id": "c5a5f5db",
   "metadata": {},
   "source": [
    "#### Encode categorical Features"
   ]
  },
  {
   "cell_type": "code",
   "execution_count": 56,
   "id": "f4a50007",
   "metadata": {},
   "outputs": [],
   "source": [
    "from sklearn.preprocessing import LabelEncoder"
   ]
  },
  {
   "cell_type": "code",
   "execution_count": 59,
   "id": "2fc2b57e",
   "metadata": {},
   "outputs": [],
   "source": [
    "lb = LabelEncoder()\n",
    "for i in cat_cols:\n",
    "    df[i] = lb.fit_transform(df[i])"
   ]
  },
  {
   "cell_type": "code",
   "execution_count": 60,
   "id": "ca50acb0",
   "metadata": {},
   "outputs": [
    {
     "data": {
      "text/plain": [
       "age           int64\n",
       "sex           int32\n",
       "bmi         float64\n",
       "children      int64\n",
       "smoker        int32\n",
       "region        int32\n",
       "charges     float64\n",
       "dtype: object"
      ]
     },
     "execution_count": 60,
     "metadata": {},
     "output_type": "execute_result"
    }
   ],
   "source": [
    "df.dtypes"
   ]
  },
  {
   "cell_type": "markdown",
   "id": "1a0aeecc",
   "metadata": {},
   "source": [
    "#### Select x and y"
   ]
  },
  {
   "cell_type": "code",
   "execution_count": 61,
   "id": "ced208f6",
   "metadata": {},
   "outputs": [
    {
     "name": "stdout",
     "output_type": "stream",
     "text": [
      "(1337, 6)\n",
      "(1337,)\n"
     ]
    }
   ],
   "source": [
    "x = df.drop('charges',axis=1)\n",
    "y = df['charges']\n",
    "print(x.shape)\n",
    "print(y.shape)"
   ]
  },
  {
   "cell_type": "code",
   "execution_count": 62,
   "id": "d0ac433d",
   "metadata": {},
   "outputs": [],
   "source": [
    "from sklearn.model_selection import train_test_split"
   ]
  },
  {
   "cell_type": "code",
   "execution_count": 79,
   "id": "7b223bff",
   "metadata": {},
   "outputs": [
    {
     "name": "stdout",
     "output_type": "stream",
     "text": [
      "(935, 6)\n",
      "(402, 6)\n",
      "(935,)\n",
      "(402,)\n"
     ]
    }
   ],
   "source": [
    "x_train,x_test,y_train,y_test = train_test_split(x,y,test_size=0.30,random_state=80)\n",
    "print(x_train.shape)\n",
    "print(x_test.shape)\n",
    "print(y_train.shape)\n",
    "print(y_test.shape)"
   ]
  },
  {
   "cell_type": "markdown",
   "id": "90347aaf",
   "metadata": {},
   "source": [
    "#### Function to evaluate Model performance"
   ]
  },
  {
   "cell_type": "code",
   "execution_count": 80,
   "id": "be19516b",
   "metadata": {},
   "outputs": [],
   "source": [
    "from sklearn.metrics import *"
   ]
  },
  {
   "cell_type": "code",
   "execution_count": 81,
   "id": "49396597",
   "metadata": {},
   "outputs": [],
   "source": [
    "def eval_model(model,x_train,x_test,y_train,y_test,mname):\n",
    "    model.fit(x_train,y_train)\n",
    "    ypred = model.predict(x_test)\n",
    "    train_score = model.score(x_train,y_train)\n",
    "    test_score = model.score(x_test,y_test)\n",
    "    test_mse =  mean_squared_error(y_test,ypred)\n",
    "    test_rmse = np.sqrt(test_mse)\n",
    "    test_mae = mean_absolute_error(y_test,ypred)\n",
    "    res = pd.DataFrame({'Train_Score':train_score,'Test_Score':test_score,\n",
    "                       'Test_MAE':test_mae,'Test_MSE':test_mse,'Test_rmse':test_rmse},\n",
    "                      index=[mname])\n",
    "    return res,ypred"
   ]
  },
  {
   "cell_type": "markdown",
   "id": "04776ffb",
   "metadata": {},
   "source": [
    "#### Import ML Models"
   ]
  },
  {
   "cell_type": "code",
   "execution_count": 82,
   "id": "120e0a16",
   "metadata": {},
   "outputs": [],
   "source": [
    "from sklearn.linear_model import LinearRegression\n",
    "from sklearn.tree import DecisionTreeRegressor\n",
    "from sklearn.ensemble import  RandomForestRegressor, AdaBoostRegressor"
   ]
  },
  {
   "cell_type": "markdown",
   "id": "8c0ce177",
   "metadata": {},
   "source": [
    "#### Linear Reg"
   ]
  },
  {
   "cell_type": "code",
   "execution_count": 83,
   "id": "eda18d97",
   "metadata": {},
   "outputs": [
    {
     "data": {
      "text/html": [
       "<div>\n",
       "<style scoped>\n",
       "    .dataframe tbody tr th:only-of-type {\n",
       "        vertical-align: middle;\n",
       "    }\n",
       "\n",
       "    .dataframe tbody tr th {\n",
       "        vertical-align: top;\n",
       "    }\n",
       "\n",
       "    .dataframe thead th {\n",
       "        text-align: right;\n",
       "    }\n",
       "</style>\n",
       "<table border=\"1\" class=\"dataframe\">\n",
       "  <thead>\n",
       "    <tr style=\"text-align: right;\">\n",
       "      <th></th>\n",
       "      <th>Train_Score</th>\n",
       "      <th>Test_Score</th>\n",
       "      <th>Test_MAE</th>\n",
       "      <th>Test_MSE</th>\n",
       "      <th>Test_rmse</th>\n",
       "    </tr>\n",
       "  </thead>\n",
       "  <tbody>\n",
       "    <tr>\n",
       "      <th>LinReg</th>\n",
       "      <td>0.755168</td>\n",
       "      <td>0.754061</td>\n",
       "      <td>3713.730183</td>\n",
       "      <td>3.008791e+07</td>\n",
       "      <td>5485.245197</td>\n",
       "    </tr>\n",
       "  </tbody>\n",
       "</table>\n",
       "</div>"
      ],
      "text/plain": [
       "        Train_Score  Test_Score     Test_MAE      Test_MSE    Test_rmse\n",
       "LinReg     0.755168    0.754061  3713.730183  3.008791e+07  5485.245197"
      ]
     },
     "execution_count": 83,
     "metadata": {},
     "output_type": "execute_result"
    }
   ],
   "source": [
    "lr1 = LinearRegression()\n",
    "lr1_res,ypred_lr1 = eval_model(lr1,x_train, x_test, y_train, y_test,'LinReg')\n",
    "lr1_res"
   ]
  },
  {
   "cell_type": "markdown",
   "id": "ffa3e370",
   "metadata": {},
   "source": [
    "#### DT Reg"
   ]
  },
  {
   "cell_type": "code",
   "execution_count": 85,
   "id": "0858fc8e",
   "metadata": {},
   "outputs": [
    {
     "data": {
      "text/html": [
       "<div>\n",
       "<style scoped>\n",
       "    .dataframe tbody tr th:only-of-type {\n",
       "        vertical-align: middle;\n",
       "    }\n",
       "\n",
       "    .dataframe tbody tr th {\n",
       "        vertical-align: top;\n",
       "    }\n",
       "\n",
       "    .dataframe thead th {\n",
       "        text-align: right;\n",
       "    }\n",
       "</style>\n",
       "<table border=\"1\" class=\"dataframe\">\n",
       "  <thead>\n",
       "    <tr style=\"text-align: right;\">\n",
       "      <th></th>\n",
       "      <th>Train_Score</th>\n",
       "      <th>Test_Score</th>\n",
       "      <th>Test_MAE</th>\n",
       "      <th>Test_MSE</th>\n",
       "      <th>Test_rmse</th>\n",
       "    </tr>\n",
       "  </thead>\n",
       "  <tbody>\n",
       "    <tr>\n",
       "      <th>DTree_Reg</th>\n",
       "      <td>0.916553</td>\n",
       "      <td>0.809411</td>\n",
       "      <td>2544.91753</td>\n",
       "      <td>2.331639e+07</td>\n",
       "      <td>4828.70501</td>\n",
       "    </tr>\n",
       "  </tbody>\n",
       "</table>\n",
       "</div>"
      ],
      "text/plain": [
       "           Train_Score  Test_Score    Test_MAE      Test_MSE   Test_rmse\n",
       "DTree_Reg     0.916553    0.809411  2544.91753  2.331639e+07  4828.70501"
      ]
     },
     "execution_count": 85,
     "metadata": {},
     "output_type": "execute_result"
    }
   ],
   "source": [
    "dt1 = DecisionTreeRegressor(max_depth=8,min_samples_split=10)\n",
    "dt1_res,ypred_dt1 = eval_model(dt1,x_train, x_test, y_train, y_test,'DTree_Reg')\n",
    "dt1_res"
   ]
  },
  {
   "cell_type": "markdown",
   "id": "66f4ce75",
   "metadata": {},
   "source": [
    "#### Random Forest Regressor"
   ]
  },
  {
   "cell_type": "code",
   "execution_count": 86,
   "id": "7c37b33d",
   "metadata": {},
   "outputs": [
    {
     "data": {
      "text/html": [
       "<div>\n",
       "<style scoped>\n",
       "    .dataframe tbody tr th:only-of-type {\n",
       "        vertical-align: middle;\n",
       "    }\n",
       "\n",
       "    .dataframe tbody tr th {\n",
       "        vertical-align: top;\n",
       "    }\n",
       "\n",
       "    .dataframe thead th {\n",
       "        text-align: right;\n",
       "    }\n",
       "</style>\n",
       "<table border=\"1\" class=\"dataframe\">\n",
       "  <thead>\n",
       "    <tr style=\"text-align: right;\">\n",
       "      <th></th>\n",
       "      <th>Train_Score</th>\n",
       "      <th>Test_Score</th>\n",
       "      <th>Test_MAE</th>\n",
       "      <th>Test_MSE</th>\n",
       "      <th>Test_rmse</th>\n",
       "    </tr>\n",
       "  </thead>\n",
       "  <tbody>\n",
       "    <tr>\n",
       "      <th>RF_Reg</th>\n",
       "      <td>0.912813</td>\n",
       "      <td>0.857902</td>\n",
       "      <td>2272.129089</td>\n",
       "      <td>1.738413e+07</td>\n",
       "      <td>4169.428278</td>\n",
       "    </tr>\n",
       "  </tbody>\n",
       "</table>\n",
       "</div>"
      ],
      "text/plain": [
       "        Train_Score  Test_Score     Test_MAE      Test_MSE    Test_rmse\n",
       "RF_Reg     0.912813    0.857902  2272.129089  1.738413e+07  4169.428278"
      ]
     },
     "execution_count": 86,
     "metadata": {},
     "output_type": "execute_result"
    }
   ],
   "source": [
    "rf1 = RandomForestRegressor(n_estimators=80,max_depth=9,min_samples_split=12)\n",
    "rf1_res,ypred_rf1 = eval_model(rf1,x_train, x_test, y_train, y_test,'RF_Reg')\n",
    "rf1_res"
   ]
  },
  {
   "cell_type": "markdown",
   "id": "fb65cce5",
   "metadata": {},
   "source": [
    "#### Saving the Model"
   ]
  },
  {
   "cell_type": "code",
   "execution_count": 87,
   "id": "ebd55494",
   "metadata": {},
   "outputs": [],
   "source": [
    "import pickle"
   ]
  },
  {
   "cell_type": "code",
   "execution_count": 89,
   "id": "8de326be",
   "metadata": {},
   "outputs": [],
   "source": [
    "pickle.dump(lr1,open('lr1_model_13Apr.pkl','wb'))\n",
    "pickle.dump(dt1,open('dt1_model_13Apr.pkl','wb'))\n",
    "pickle.dump(rf1,open('rf1_model_13Apr.pkl','wb'))"
   ]
  },
  {
   "cell_type": "markdown",
   "id": "eb85cfbb",
   "metadata": {},
   "source": [
    "#### Install streamlit\n",
    "\n",
    "Streamlit is a web framework - Used to create Web App"
   ]
  },
  {
   "cell_type": "code",
   "execution_count": 3,
   "id": "880bad97",
   "metadata": {},
   "outputs": [],
   "source": [
    "# df['children'].value_counts()"
   ]
  },
  {
   "cell_type": "code",
   "execution_count": null,
   "id": "91ca1a9e",
   "metadata": {},
   "outputs": [],
   "source": [
    "df['children'].value_counts()"
   ]
  }
 ],
 "metadata": {
  "kernelspec": {
   "display_name": "Python 3 (ipykernel)",
   "language": "python",
   "name": "python3"
  },
  "language_info": {
   "codemirror_mode": {
    "name": "ipython",
    "version": 3
   },
   "file_extension": ".py",
   "mimetype": "text/x-python",
   "name": "python",
   "nbconvert_exporter": "python",
   "pygments_lexer": "ipython3",
   "version": "3.9.13"
  }
 },
 "nbformat": 4,
 "nbformat_minor": 5
}
